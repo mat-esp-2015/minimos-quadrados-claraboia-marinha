{
 "cells": [
  {
   "cell_type": "markdown",
   "metadata": {},
   "source": [
    "# Método dos Mínimos Quadrados (MMQ)"
   ]
  },
  {
   "cell_type": "markdown",
   "metadata": {},
   "source": [
    "## License\n",
    "\n",
    "All content can be freely used and adapted under the terms of the \n",
    "[Creative Commons Attribution 4.0 International License](http://creativecommons.org/licenses/by/4.0/).\n",
    "\n",
    "![Creative Commons License](https://i.creativecommons.org/l/by/4.0/88x31.png)"
   ]
  },
  {
   "cell_type": "markdown",
   "metadata": {},
   "source": [
    "## Imports\n",
    "\n",
    "Coloque **todos** os `import` na célula abaixo. Não se esqueça do `%matplotlib inline` para que os gráficos apareçam no notebook."
   ]
  },
  {
   "cell_type": "code",
   "execution_count": 3,
   "metadata": {
    "collapsed": true
   },
   "outputs": [],
   "source": [
    "import numpy as np\n",
    "%matplotlib inline\n",
    "import matplotlib.pyplot as plt"
   ]
  },
  {
   "cell_type": "markdown",
   "metadata": {},
   "source": [
    "## IMPORTANTE\n",
    "\n",
    "Agora que vocês sabem técnicas de programação defensiva, eu espero que todo o código que vocês fizerem abaixo utilizem essas técnicas. Crie docstrings para suas funções, cheque as entradas (quando for possível) e cheque as saídas. **Não esqueçam dos comentários**."
   ]
  },
  {
   "cell_type": "markdown",
   "metadata": {},
   "source": [
    "## Fabricando dados para teste\n",
    "\n",
    "Para saber se nosso código está funcionando, precisamos fabricar alguns dados com parâmetros conhecidos. Vamos gerar dados que seguem a equação da reta:\n",
    "\n",
    "$$\n",
    "d_i = a x_i + b\n",
    "$$"
   ]
  },
  {
   "cell_type": "markdown",
   "metadata": {},
   "source": [
    "**IMPORTANTE**: Eu vou usar a biblioteca numpy as gerar os dados abaixo. \n",
    "Vocês **não podem** utilizar o numpy para calcular a sua solução.\n",
    "Uso do numpy deve ser conquistado com ~~sangue~~esforço.\n",
    "O código abaixo serve como exemplo do que vocês poderão fazer ao utilizar o Python no seu trabalho (fora da aula)."
   ]
  },
  {
   "cell_type": "code",
   "execution_count": 4,
   "metadata": {
    "collapsed": false
   },
   "outputs": [],
   "source": [
    "a = 10\n",
    "b = 50\n",
    "N = 50\n",
    "# Vou utilizar a função linspace do numpy para facilitar a vida\n",
    "# Essa função cria N valores igualmente espaçados entre dois números (5 e 50)\n",
    "x = np.linspace(5, 50, N)\n",
    "# Agora podemos usar os valores de x, a e b acima para simular dados observados\n",
    "dados_obs = a*x + b\n",
    "# Vamos adicionar erro aleatório aos dados para ficar mais interessante\n",
    "# O erro seguirá uma distribuição normal com os seguintes parâmetros\n",
    "media_erro = 0\n",
    "std_erro = 20\n",
    "# A linha abaixo faz com que os valores aleatórios não sejam verdadeiramente aleatórios\n",
    "# veja https://en.wikipedia.org/wiki/Pseudorandom_number_generator\n",
    "np.random.seed(42)\n",
    "# Gera a lista de numéros aleatórios\n",
    "erro = np.random.normal(loc=media_erro, scale=std_erro, size=len(dados_obs))\n",
    "# Agora podemos adicionar o erro aos dados observados\n",
    "dados_obs += erro"
   ]
  },
  {
   "cell_type": "markdown",
   "metadata": {},
   "source": [
    "Utilize a célula abaixo para gerar um gráfico de círculos pretos (`ok`) de seus dados."
   ]
  },
  {
   "cell_type": "code",
   "execution_count": 7,
   "metadata": {
    "collapsed": false
   },
   "outputs": [
    {
     "data": {
      "text/plain": [
       "<matplotlib.text.Text at 0x123a7b8>"
      ]
     },
     "execution_count": 7,
     "metadata": {},
     "output_type": "execute_result"
    },
    {
     "data": {
      "image/png": "[encoded data removed]",
      "text/plain": [
       "<matplotlib.figure.Figure at 0x1259c50>"
      ]
     },
     "metadata": {},
     "output_type": "display_data"
    }
   ],
   "source": [
    "plt.figure() #criar uma figura\n",
    "plt.plot(x,dados_obs , \"ok\") #coordenadas do gráfico e o tipo de representação dos dados 'gráfico de circulos pretas'\n",
    "plt.xlabel('x') #dar nome ao eixo x\n",
    "plt.ylabel('dados observados') #dar nome ao eixo y"
   ]
  },
  {
   "cell_type": "markdown",
   "metadata": {},
   "source": [
    "## Forma matricial da equação da reta e a matriz Jacobiana\n",
    "\n",
    "Temos uma equação da reta para cada valor de $x_i$:\n",
    "\n",
    "$$\n",
    "\\begin{align}\n",
    "d_1 &= ax_1 + b \\\\\n",
    "d_2 &= ax_2 + b \\\\\n",
    "\\vdots \\\\\n",
    "d_N &= ax_N + b \\\\\n",
    "\\end{align}\n",
    "$$\n",
    "\n",
    "Esse sistema pode ser escrito de forma matricial com os parâmetros sendo $a$ e $b$:\n",
    "\n",
    "$$\n",
    "\\begin{bmatrix}\n",
    "d_1 \\\\ d_2 \\\\ \\vdots \\\\ d_N \n",
    "\\end{bmatrix} = \n",
    "\\begin{bmatrix}\n",
    "x_1 & 1 \\\\\n",
    "x_2 & 1 \\\\\n",
    "\\vdots & \\vdots \\\\\n",
    "x_N & 1\n",
    "\\end{bmatrix}\n",
    "\\begin{bmatrix}\n",
    "a \\\\ b\n",
    "\\end{bmatrix}\n",
    "$$\n",
    "\n",
    "$$\n",
    "\\bar{d} = \\bar{\\bar{A}}\\bar{p}\n",
    "$$"
   ]
  },
  {
   "cell_type": "markdown",
   "metadata": {},
   "source": [
    "## Tarefa\n",
    "\n",
    "Faça uma função chamada `jacobiana` que calcule e retorne a matrix Jacobiana ($\\bar{\\bar{A}}$). \n",
    "\n",
    "**Para pensar**: o que essa função deve receber como argumento? (**Dica**: ela só precisa de 1)"
   ]
  },
  {
   "cell_type": "code",
   "execution_count": 47,
   "metadata": {
    "collapsed": false
   },
   "outputs": [],
   "source": [
    "def jacobiana(h):\n",
    "    A = []\n",
    "    nlin_a = len(h)\n",
    "    ncol_a = 2\n",
    "    for i in range(nlin_a):\n",
    "        lista = [h[i], 1]\n",
    "        A.append(lista)\n",
    "    return A"
   ]
  },
  {
   "cell_type": "code",
   "execution_count": 48,
   "metadata": {
    "collapsed": false
   },
   "outputs": [
    {
     "data": {
      "text/plain": [
       "[[5.0, 1],\n",
       " [5.9183673469387754, 1],\n",
       " [6.8367346938775508, 1],\n",
       " [7.7551020408163271, 1],\n",
       " [8.6734693877551017, 1],\n",
       " [9.591836734693878, 1],\n",
       " [10.510204081632654, 1],\n",
       " [11.428571428571429, 1],\n",
       " [12.346938775510203, 1],\n",
       " [13.26530612244898, 1],\n",
       " [14.183673469387756, 1],\n",
       " [15.102040816326531, 1],\n",
       " [16.020408163265309, 1],\n",
       " [16.938775510204081, 1],\n",
       " [17.857142857142858, 1],\n",
       " [18.775510204081634, 1],\n",
       " [19.693877551020407, 1],\n",
       " [20.612244897959187, 1],\n",
       " [21.530612244897959, 1],\n",
       " [22.448979591836736, 1],\n",
       " [23.367346938775512, 1],\n",
       " [24.285714285714285, 1],\n",
       " [25.204081632653061, 1],\n",
       " [26.122448979591837, 1],\n",
       " [27.040816326530614, 1],\n",
       " [27.95918367346939, 1],\n",
       " [28.877551020408163, 1],\n",
       " [29.795918367346939, 1],\n",
       " [30.714285714285715, 1],\n",
       " [31.632653061224492, 1],\n",
       " [32.551020408163268, 1],\n",
       " [33.469387755102041, 1],\n",
       " [34.387755102040813, 1],\n",
       " [35.306122448979593, 1],\n",
       " [36.224489795918373, 1],\n",
       " [37.142857142857146, 1],\n",
       " [38.061224489795919, 1],\n",
       " [38.979591836734691, 1],\n",
       " [39.897959183673471, 1],\n",
       " [40.816326530612244, 1],\n",
       " [41.734693877551024, 1],\n",
       " [42.653061224489797, 1],\n",
       " [43.571428571428569, 1],\n",
       " [44.489795918367349, 1],\n",
       " [45.408163265306122, 1],\n",
       " [46.326530612244902, 1],\n",
       " [47.244897959183675, 1],\n",
       " [48.163265306122447, 1],\n",
       " [49.081632653061227, 1],\n",
       " [50.0, 1]]"
      ]
     },
     "execution_count": 48,
     "metadata": {},
     "output_type": "execute_result"
    }
   ],
   "source": [
    "jacobiana(x)"
   ]
  },
  {
   "cell_type": "code",
   "execution_count": null,
   "metadata": {
    "collapsed": true
   },
   "outputs": [],
   "source": []
  },
  {
   "cell_type": "markdown",
   "metadata": {},
   "source": [
    "### Resultado esperado\n",
    "\n",
    "A célula abaixo testa a sua Jacobiana contra uma produzida pelo numpy."
   ]
  },
  {
   "cell_type": "code",
   "execution_count": 50,
   "metadata": {
    "collapsed": false
   },
   "outputs": [
    {
     "data": {
      "text/plain": [
       "True"
      ]
     },
     "execution_count": 50,
     "metadata": {},
     "output_type": "execute_result"
    }
   ],
   "source": [
    "np.allclose(jacobiana(x), np.transpose([x, np.ones_like(x)]))"
   ]
  },
  {
   "cell_type": "code",
   "execution_count": null,
   "metadata": {
    "collapsed": true
   },
   "outputs": [],
   "source": []
  },
  {
   "cell_type": "code",
   "execution_count": null,
   "metadata": {
    "collapsed": true
   },
   "outputs": [],
   "source": []
  },
  {
   "cell_type": "markdown",
   "metadata": {},
   "source": [
    "## Tarefa\n",
    "\n",
    "Calcule dados preditos para o vetor de parâmetros definido abaixo **utilizando a forma matricial da equação**. Guarde o resultado em uma variável chamada `preditos`. \n",
    "\n",
    "Faça um gráfico dos dados observados (gerados acima) como pontos pretos e os dados preditos que você calculou como uma linha vermelha.\n",
    "\n",
    "**Dica**: utilize as funções que você criou na aula passada.\n"
   ]
  },
  {
   "cell_type": "code",
   "execution_count": null,
   "metadata": {
    "collapsed": true
   },
   "outputs": [],
   "source": [
    "p = [5, 15]"
   ]
  },
  {
   "cell_type": "code",
   "execution_count": null,
   "metadata": {
    "collapsed": true
   },
   "outputs": [],
   "source": []
  },
  {
   "cell_type": "code",
   "execution_count": null,
   "metadata": {
    "collapsed": false
   },
   "outputs": [],
   "source": []
  },
  {
   "cell_type": "code",
   "execution_count": null,
   "metadata": {
    "collapsed": true
   },
   "outputs": [],
   "source": []
  },
  {
   "cell_type": "markdown",
   "metadata": {},
   "source": [
    "### Resultado esperado\n",
    "\n",
    "A célula abaixo testa seus resultados contra um calculado com o numpy."
   ]
  },
  {
   "cell_type": "code",
   "execution_count": null,
   "metadata": {
    "collapsed": true
   },
   "outputs": [],
   "source": [
    "assert np.allclose(preditos, np.dot(jacobiana(x), p))"
   ]
  },
  {
   "cell_type": "code",
   "execution_count": null,
   "metadata": {
    "collapsed": true
   },
   "outputs": [],
   "source": []
  },
  {
   "cell_type": "code",
   "execution_count": null,
   "metadata": {
    "collapsed": true
   },
   "outputs": [],
   "source": []
  },
  {
   "cell_type": "markdown",
   "metadata": {},
   "source": [
    "O gráfico deve ser parecido com o abaixo:\n",
    "\n",
    "![images/preditos-esperado.png](images/preditos-esperado.png)\n"
   ]
  },
  {
   "cell_type": "markdown",
   "metadata": {},
   "source": [
    "## Sistema de equações normais\n",
    "\n",
    "A solução de mínimos quadrados é o vetor $\\bar{p}$ que resolve o sistema linear abaixo (chamado de sistema de equações normais):\n",
    "\n",
    "$$\n",
    "\\bar{\\bar{A}}^T\\bar{\\bar{A}}\\bar{p} = \\bar{\\bar{A}}^T\\bar{d}^o\n",
    "$$\n",
    "\n",
    "Para resolver esse sistema, precisamos primeiramente calcular a matriz do sistema $\\bar{\\bar{A}}^T\\bar{\\bar{A}}$ e o vetor do lado direito $\\bar{\\bar{A}}^T\\bar{d}^o$."
   ]
  },
  {
   "cell_type": "markdown",
   "metadata": {},
   "source": [
    "## Tarefa\n",
    "\n",
    "Faça uma função chamada `eqnormais_sistema` que calcule e retorne a matriz $\\bar{\\bar{A}}^T\\bar{\\bar{A}}$ dada a matriz Jacobiana.\n",
    "\n",
    "Utilize as funções criadas na aula anterior.\n",
    "\n",
    "**Dica**: É possível saber quantas linhas e colunas o sistema deve conter. Cheque se o seu resulatdo possui esse número."
   ]
  },
  {
   "cell_type": "code",
   "execution_count": null,
   "metadata": {
    "collapsed": true
   },
   "outputs": [],
   "source": []
  },
  {
   "cell_type": "code",
   "execution_count": null,
   "metadata": {
    "collapsed": false
   },
   "outputs": [],
   "source": []
  },
  {
   "cell_type": "code",
   "execution_count": null,
   "metadata": {
    "collapsed": true
   },
   "outputs": [],
   "source": []
  },
  {
   "cell_type": "markdown",
   "metadata": {},
   "source": [
    "### Resultado esperado\n",
    "\n",
    "A célula abaixo testa seus resultados contra um calculado com o numpy."
   ]
  },
  {
   "cell_type": "code",
   "execution_count": null,
   "metadata": {
    "collapsed": true
   },
   "outputs": [],
   "source": [
    "assert np.allclose(eqnormais_sistema(jacobiana(x)), np.transpose(jacobiana(x)).dot(jacobiana(x)))"
   ]
  },
  {
   "cell_type": "code",
   "execution_count": null,
   "metadata": {
    "collapsed": true
   },
   "outputs": [],
   "source": []
  },
  {
   "cell_type": "code",
   "execution_count": null,
   "metadata": {
    "collapsed": true
   },
   "outputs": [],
   "source": []
  },
  {
   "cell_type": "markdown",
   "metadata": {},
   "source": [
    "## Tarefa\n",
    "\n",
    "Faça uma função chamada `eqnormais_lado_direito` que calcule e retorne o vetor do lado direito do sistema de equações normais.\n",
    "\n",
    "**Dicas**: \n",
    "\n",
    "* Essa função deve receber 2 argumentos. \n",
    "* O que essa função deve retornar é um vetor ou matriz?\n",
    "* É possível saber o número de elementos que o resultado deve conter. Cheque esse número."
   ]
  },
  {
   "cell_type": "code",
   "execution_count": null,
   "metadata": {
    "collapsed": true
   },
   "outputs": [],
   "source": []
  },
  {
   "cell_type": "code",
   "execution_count": null,
   "metadata": {
    "collapsed": true
   },
   "outputs": [],
   "source": []
  },
  {
   "cell_type": "code",
   "execution_count": null,
   "metadata": {
    "collapsed": true
   },
   "outputs": [],
   "source": []
  },
  {
   "cell_type": "markdown",
   "metadata": {},
   "source": [
    "### Resultado esperado\n",
    "\n",
    "A célula abaixo testa seus resultados contra um calculado com o numpy."
   ]
  },
  {
   "cell_type": "code",
   "execution_count": null,
   "metadata": {
    "collapsed": false
   },
   "outputs": [],
   "source": [
    "assert np.allclose(eqnormais_lado_direito(jacobiana(x), dados_obs), np.transpose(jacobiana(x)).dot(dados_obs))"
   ]
  },
  {
   "cell_type": "code",
   "execution_count": null,
   "metadata": {
    "collapsed": true
   },
   "outputs": [],
   "source": []
  },
  {
   "cell_type": "code",
   "execution_count": null,
   "metadata": {
    "collapsed": true
   },
   "outputs": [],
   "source": []
  },
  {
   "cell_type": "markdown",
   "metadata": {},
   "source": [
    "## Solução de mínimos quadrados\n",
    "\n",
    "Agora que temos o sistema de equações normais, podemos resolvê-lo numericamente para encontrar os valores de $a$ e $b$ que produzem a reta que melhor ajusta nossos dados."
   ]
  },
  {
   "cell_type": "markdown",
   "metadata": {},
   "source": [
    "## Tarefa\n",
    "\n",
    "Faça uma função chamada `elim_gauss` que resolve um sistema de equações utilizando a eliminação de Gauss. Essa função deve receber como argumento a matriz do sistema e o vetor lado direito e retornar o vetor de solução.\n",
    "\n",
    "**Dicas**:\n",
    "\n",
    "* Cheque o número de elementos na matriz e no vetor.\n",
    "* A matriz deve ser quadrada."
   ]
  },
  {
   "cell_type": "code",
   "execution_count": null,
   "metadata": {
    "collapsed": true
   },
   "outputs": [],
   "source": []
  },
  {
   "cell_type": "code",
   "execution_count": null,
   "metadata": {
    "collapsed": true
   },
   "outputs": [],
   "source": []
  },
  {
   "cell_type": "code",
   "execution_count": null,
   "metadata": {
    "collapsed": true
   },
   "outputs": [],
   "source": []
  },
  {
   "cell_type": "markdown",
   "metadata": {},
   "source": [
    "### Resultado esperado\n",
    "\n",
    "A célula abaixo testa seus resultados contra um calculado com o numpy."
   ]
  },
  {
   "cell_type": "code",
   "execution_count": null,
   "metadata": {
    "collapsed": false
   },
   "outputs": [],
   "source": [
    "np.random.seed(42)\n",
    "A_teste = np.random.uniform(10, 50, size=(21, 21))\n",
    "x_teste = np.random.uniform(5, 20, size=21)\n",
    "y_teste = A_teste.dot(x_teste)\n",
    "assert np.allclose(elim_gauss(A_teste, y_teste), x_teste)"
   ]
  },
  {
   "cell_type": "code",
   "execution_count": null,
   "metadata": {
    "collapsed": true
   },
   "outputs": [],
   "source": []
  },
  {
   "cell_type": "code",
   "execution_count": null,
   "metadata": {
    "collapsed": true
   },
   "outputs": [],
   "source": []
  },
  {
   "cell_type": "markdown",
   "metadata": {},
   "source": [
    "## Tarefa\n",
    "\n",
    "Faça uma função `ajuste_reta` que recebe um vetor de valores de x e um de dados observados e retorna a solução de minimos quadrados $\\bar{p}$ (vetor com os valores de $a$ e $b$ estimados).\n",
    "\n",
    "Aplique essa função nos dados observados simulados acima. Cheque se a solução bate com o valor esperado (você pode fazer isso usando um `assert`). \n",
    "\n",
    "Faça um gráfico dos dados observados (pontos pretos) pelos dados preditos pela solução que você obteve agora (linha vermelha). O gráfico deve conter uma legenda. A legenda para os dados preditos deve ser da forma \"y = 234x + 244\" (trocando os números pelos valores que você estimou).\n",
    "\n",
    "**Dica**:r\n",
    "\n",
    "* Quantos elementos deve ter o vetor retornado?\n",
    "* Para inserir números em uma string (texto): `\"y = {}\".format(123.1)\"` $\\to$ `\"y = 123.1\"`\n",
    "* Para formatar os números que você quer inserir numa string: `\"y = {:.4f}\".format(123.242524536362446353436335)` $\\to$  `\"y = 123.2425\"`"
   ]
  },
  {
   "cell_type": "code",
   "execution_count": null,
   "metadata": {
    "collapsed": true
   },
   "outputs": [],
   "source": []
  },
  {
   "cell_type": "code",
   "execution_count": null,
   "metadata": {
    "collapsed": true
   },
   "outputs": [],
   "source": []
  },
  {
   "cell_type": "code",
   "execution_count": null,
   "metadata": {
    "collapsed": true
   },
   "outputs": [],
   "source": []
  },
  {
   "cell_type": "markdown",
   "metadata": {},
   "source": [
    "### Resultado esperado\n",
    "\n",
    "Os valores estimados para $\\bar{p}$ devem ser aproximadamente:\n",
    "\n",
    "    [9.742296, 52.57738183]\n",
    "\n",
    "O gráfico deve ser parecido com o abaixo:\n",
    "\n",
    "![images/solucao-esperada.png](images/solucao-esperada.png)\n"
   ]
  },
  {
   "cell_type": "markdown",
   "metadata": {},
   "source": [
    "## Tarefa Bônus\n",
    "\n",
    "\n",
    "Podemos utilizar o  método dos mínimos quadrados para ajustar qualquer equação que seja linear com relação as parâmetros ($a$ e $b$ no caso da reta). Isso quer dizer que podemos ajustar uma parábola:\n",
    "\n",
    "$$\n",
    "d_i = ax_i^2 + bx + c\n",
    "$$\n",
    "\n",
    "Dessa vez, os parâmetros que queremos estimar são $a$, $b$ e $c$. Note que agora temos 3 parâmetros, não 2. Por isso, a Jacobiana terá 3 colunas ao invés de 2.\n",
    "\n",
    "Faça ao menos as seguintes funções:\n",
    "\n",
    "* `jacobiana_parabola`: calcula e retorna a matriz Jacobiana para o caso da parábola. Deve receber como argumento somente o vetor de coordenadas x.\n",
    "* `ajuste_parabola`: calcula a solução de mínimos quadrados para o caso de uma parábola. Deve receber como argumento o vetor de coordenadas x e o vetor de dados. Deve retornar o vetor de parâmetros $\\bar{p}$ estimado (contem os valores de $a$, $b$ e $c$)\n",
    "\n",
    "Teste suas funções com os dados gerados abaixo. Note que estamos usando o mesmo vetor x. Gere gráficos dos dados fabricados e também dos dados preditos pela estimativa (como os que foram feitos acima).\n",
    "\n",
    "O que acontece se você tentar ajustar uma reta aos dados da parábola? E se tentar ajustar uma parábola aos dados da reta?\n",
    "\n",
    "**Dicas**:\n",
    "\n",
    "* Você precisa criar outras funções para montar o sistema de equações normais e calcular a solução do sistema?"
   ]
  },
  {
   "cell_type": "code",
   "execution_count": null,
   "metadata": {
    "collapsed": false
   },
   "outputs": [],
   "source": [
    "a_par, b_par, c_par = 2, 20, 200\n",
    "dados_parabola = a_par*x**2 + b_par*x + c_par + erro"
   ]
  },
  {
   "cell_type": "code",
   "execution_count": null,
   "metadata": {
    "collapsed": true
   },
   "outputs": [],
   "source": []
  },
  {
   "cell_type": "code",
   "execution_count": null,
   "metadata": {
    "collapsed": true
   },
   "outputs": [],
   "source": []
  },
  {
   "cell_type": "code",
   "execution_count": null,
   "metadata": {
    "collapsed": true
   },
   "outputs": [],
   "source": []
  },
  {
   "cell_type": "code",
   "execution_count": null,
   "metadata": {
    "collapsed": true
   },
   "outputs": [],
   "source": []
  },
  {
   "cell_type": "markdown",
   "metadata": {},
   "source": [
    "### Resultado esperado\n",
    "\n",
    "Os gráficos que você deve gerar deverão ser parecidos com os abaixo:\n",
    "\n",
    "![images/bonus-dados.png](images/bonus-dados.png)\n",
    "![images/bonus-ajuste.png](images/bonus-ajuste.png)"
   ]
  }
 ],
 "metadata": {
  "kernelspec": {
   "display_name": "Python 3",
   "language": "python",
   "name": "python3"
  },
  "language_info": {
   "codemirror_mode": {
    "name": "ipython",
    "version": 3
   },
   "file_extension": ".py",
   "mimetype": "text/x-python",
   "name": "python",
   "nbconvert_exporter": "python",
   "pygments_lexer": "ipython3",
   "version": "3.4.3"
  }
 },
 "nbformat": 4,
 "nbformat_minor": 0
}
